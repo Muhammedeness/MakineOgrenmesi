{
  "nbformat": 4,
  "nbformat_minor": 0,
  "metadata": {
    "colab": {
      "provenance": []
    },
    "kernelspec": {
      "name": "python3",
      "display_name": "Python 3"
    },
    "language_info": {
      "name": "python"
    }
  },
  "cells": [
    {
      "cell_type": "code",
      "execution_count": 11,
      "metadata": {
        "id": "9yArEuvM9KQE"
      },
      "outputs": [],
      "source": [
        "from sklearn import tree\n",
        "X = [[0, 0], [1, 1]]\n",
        "Y = [0, 1]\n",
        "model = tree.DecisionTreeClassifier()#karar ağacı algoritması kullanıldı\n",
        "model = model.fit(X, Y)"
      ]
    },
    {
      "cell_type": "code",
      "source": [
        "#şimdi oluşturulan modeli tahmin için kullanabiliriz\n",
        "model.predict([[3, 5]])"
      ],
      "metadata": {
        "colab": {
          "base_uri": "https://localhost:8080/"
        },
        "id": "Rf0DwsXK9RBA",
        "outputId": "d5d6765f-8ba4-42e0-f65f-4b082861b83e"
      },
      "execution_count": 12,
      "outputs": [
        {
          "output_type": "execute_result",
          "data": {
            "text/plain": [
              "array([1])"
            ]
          },
          "metadata": {},
          "execution_count": 12
        }
      ]
    }
  ]
}